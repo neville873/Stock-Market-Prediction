{
 "cells": [
  {
   "cell_type": "code",
   "execution_count": 1,
   "metadata": {},
   "outputs": [],
   "source": [
    "import csv\n",
    "import pandas as pd\n",
    "\n",
    "\n",
    "data = []\n",
    "with open('A.csv', 'r') as file:\n",
    "    file_reader = csv.reader(file)\n",
    "\n",
    "    for i in file_reader:\n",
    "        data.append(i)\n",
    "\n",
    "\n"
   ]
  },
  {
   "cell_type": "code",
   "execution_count": 2,
   "metadata": {},
   "outputs": [
    {
     "data": {
      "text/html": [
       "<div>\n",
       "<style scoped>\n",
       "    .dataframe tbody tr th:only-of-type {\n",
       "        vertical-align: middle;\n",
       "    }\n",
       "\n",
       "    .dataframe tbody tr th {\n",
       "        vertical-align: top;\n",
       "    }\n",
       "\n",
       "    .dataframe thead th {\n",
       "        text-align: right;\n",
       "    }\n",
       "</style>\n",
       "<table border=\"1\" class=\"dataframe\">\n",
       "  <thead>\n",
       "    <tr style=\"text-align: right;\">\n",
       "      <th></th>\n",
       "      <th>Date</th>\n",
       "      <th>Low</th>\n",
       "      <th>Open</th>\n",
       "      <th>Volume</th>\n",
       "      <th>High</th>\n",
       "      <th>Close</th>\n",
       "      <th>Adjusted Close</th>\n",
       "    </tr>\n",
       "  </thead>\n",
       "  <tbody>\n",
       "    <tr>\n",
       "      <th>0</th>\n",
       "      <td>18-11-1999</td>\n",
       "      <td>28.612302780151367</td>\n",
       "      <td>32.54649353027344</td>\n",
       "      <td>62546380</td>\n",
       "      <td>35.765380859375</td>\n",
       "      <td>31.473533630371094</td>\n",
       "      <td>27.06658172607422</td>\n",
       "    </tr>\n",
       "    <tr>\n",
       "      <th>1</th>\n",
       "      <td>19-11-1999</td>\n",
       "      <td>28.47818374633789</td>\n",
       "      <td>30.713518142700195</td>\n",
       "      <td>15234146</td>\n",
       "      <td>30.75822639465332</td>\n",
       "      <td>28.880544662475586</td>\n",
       "      <td>24.83666229248047</td>\n",
       "    </tr>\n",
       "    <tr>\n",
       "      <th>2</th>\n",
       "      <td>22-11-1999</td>\n",
       "      <td>28.65700912475586</td>\n",
       "      <td>29.551143646240234</td>\n",
       "      <td>6577870</td>\n",
       "      <td>31.473533630371094</td>\n",
       "      <td>31.473533630371094</td>\n",
       "      <td>27.06658172607422</td>\n",
       "    </tr>\n",
       "    <tr>\n",
       "      <th>3</th>\n",
       "      <td>23-11-1999</td>\n",
       "      <td>28.612302780151367</td>\n",
       "      <td>30.400571823120117</td>\n",
       "      <td>5975611</td>\n",
       "      <td>31.205293655395508</td>\n",
       "      <td>28.612302780151367</td>\n",
       "      <td>24.605979919433594</td>\n",
       "    </tr>\n",
       "    <tr>\n",
       "      <th>4</th>\n",
       "      <td>24-11-1999</td>\n",
       "      <td>28.612302780151367</td>\n",
       "      <td>28.701717376708984</td>\n",
       "      <td>4843231</td>\n",
       "      <td>29.998212814331055</td>\n",
       "      <td>29.372318267822266</td>\n",
       "      <td>25.259572982788086</td>\n",
       "    </tr>\n",
       "    <tr>\n",
       "      <th>...</th>\n",
       "      <td>...</td>\n",
       "      <td>...</td>\n",
       "      <td>...</td>\n",
       "      <td>...</td>\n",
       "      <td>...</td>\n",
       "      <td>...</td>\n",
       "      <td>...</td>\n",
       "    </tr>\n",
       "    <tr>\n",
       "      <th>5799</th>\n",
       "      <td>06-12-2022</td>\n",
       "      <td>149.91000366210938</td>\n",
       "      <td>152.14999389648438</td>\n",
       "      <td>1172300</td>\n",
       "      <td>153.0</td>\n",
       "      <td>151.35000610351562</td>\n",
       "      <td>151.35000610351562</td>\n",
       "    </tr>\n",
       "    <tr>\n",
       "      <th>5800</th>\n",
       "      <td>07-12-2022</td>\n",
       "      <td>151.1300048828125</td>\n",
       "      <td>151.22999572753906</td>\n",
       "      <td>1011100</td>\n",
       "      <td>154.35000610351562</td>\n",
       "      <td>153.72999572753906</td>\n",
       "      <td>153.72999572753906</td>\n",
       "    </tr>\n",
       "    <tr>\n",
       "      <th>5801</th>\n",
       "      <td>08-12-2022</td>\n",
       "      <td>153.47999572753906</td>\n",
       "      <td>154.4199981689453</td>\n",
       "      <td>1289900</td>\n",
       "      <td>156.99000549316406</td>\n",
       "      <td>156.27999877929688</td>\n",
       "      <td>156.27999877929688</td>\n",
       "    </tr>\n",
       "    <tr>\n",
       "      <th>5802</th>\n",
       "      <td>09-12-2022</td>\n",
       "      <td>152.67999267578125</td>\n",
       "      <td>155.6699981689453</td>\n",
       "      <td>1020200</td>\n",
       "      <td>156.6999969482422</td>\n",
       "      <td>152.9499969482422</td>\n",
       "      <td>152.9499969482422</td>\n",
       "    </tr>\n",
       "    <tr>\n",
       "      <th>5803</th>\n",
       "      <td>12-12-2022</td>\n",
       "      <td>153.3800048828125</td>\n",
       "      <td>154.00999450683594</td>\n",
       "      <td>194590</td>\n",
       "      <td>155.41000366210938</td>\n",
       "      <td>155.24000549316406</td>\n",
       "      <td>155.24000549316406</td>\n",
       "    </tr>\n",
       "  </tbody>\n",
       "</table>\n",
       "<p>5804 rows × 7 columns</p>\n",
       "</div>"
      ],
      "text/plain": [
       "            Date                 Low                Open    Volume  \\\n",
       "0     18-11-1999  28.612302780151367   32.54649353027344  62546380   \n",
       "1     19-11-1999   28.47818374633789  30.713518142700195  15234146   \n",
       "2     22-11-1999   28.65700912475586  29.551143646240234   6577870   \n",
       "3     23-11-1999  28.612302780151367  30.400571823120117   5975611   \n",
       "4     24-11-1999  28.612302780151367  28.701717376708984   4843231   \n",
       "...          ...                 ...                 ...       ...   \n",
       "5799  06-12-2022  149.91000366210938  152.14999389648438   1172300   \n",
       "5800  07-12-2022   151.1300048828125  151.22999572753906   1011100   \n",
       "5801  08-12-2022  153.47999572753906   154.4199981689453   1289900   \n",
       "5802  09-12-2022  152.67999267578125   155.6699981689453   1020200   \n",
       "5803  12-12-2022   153.3800048828125  154.00999450683594    194590   \n",
       "\n",
       "                    High               Close      Adjusted Close  \n",
       "0        35.765380859375  31.473533630371094   27.06658172607422  \n",
       "1      30.75822639465332  28.880544662475586   24.83666229248047  \n",
       "2     31.473533630371094  31.473533630371094   27.06658172607422  \n",
       "3     31.205293655395508  28.612302780151367  24.605979919433594  \n",
       "4     29.998212814331055  29.372318267822266  25.259572982788086  \n",
       "...                  ...                 ...                 ...  \n",
       "5799               153.0  151.35000610351562  151.35000610351562  \n",
       "5800  154.35000610351562  153.72999572753906  153.72999572753906  \n",
       "5801  156.99000549316406  156.27999877929688  156.27999877929688  \n",
       "5802   156.6999969482422   152.9499969482422   152.9499969482422  \n",
       "5803  155.41000366210938  155.24000549316406  155.24000549316406  \n",
       "\n",
       "[5804 rows x 7 columns]"
      ]
     },
     "execution_count": 2,
     "metadata": {},
     "output_type": "execute_result"
    }
   ],
   "source": [
    "dataframe = {\n",
    "    'Date': [i[0] for i in data[1:]],\n",
    "    'Low': [i[1] for i in data[1:]], \n",
    "    'Open': [i[2] for i in data[1:]],\n",
    "    'Volume': [i[3] for i in data[1:]],\n",
    "    'High': [i[4] for i in data[1:]],\n",
    "    'Close': [i[5] for i in data[1:]],\n",
    "    'Adjusted Close': [i[6] for i in data[1:]]\n",
    "}\n",
    "\n",
    "pd.DataFrame(dataframe)\n",
    "\n"
   ]
  },
  {
   "cell_type": "code",
   "execution_count": 3,
   "metadata": {},
   "outputs": [],
   "source": [
    "from sklearn.model_selection import train_test_split"
   ]
  },
  {
   "cell_type": "code",
   "execution_count": 4,
   "metadata": {},
   "outputs": [],
   "source": [
    "import numpy as np\n",
    "\n",
    "X = np.array([i[1:6] for i in data[1:]], dtype=float)\n",
    "y = np.array([i[6:] for i in data[1:]],dtype=float)"
   ]
  },
  {
   "cell_type": "code",
   "execution_count": 5,
   "metadata": {},
   "outputs": [],
   "source": [
    "from sklearn.preprocessing import MinMaxScaler"
   ]
  },
  {
   "cell_type": "code",
   "execution_count": 6,
   "metadata": {},
   "outputs": [],
   "source": [
    "scaler = MinMaxScaler()\n",
    "\n",
    "# Normalisasi Min-Max untuk X\n",
    "\n",
    "X_normalized = np.round(scaler.fit_transform(X), 3)\n",
    "\n",
    "# Normalisasi Min-Max untuk y\n",
    "\n",
    "y_normalized = np.round(scaler.fit_transform(y), 3)\n"
   ]
  },
  {
   "cell_type": "code",
   "execution_count": 7,
   "metadata": {},
   "outputs": [],
   "source": [
    "X_train, X_test, y_train, y_test = train_test_split(X_normalized, y_normalized, test_size=0.2, random_state=42)"
   ]
  },
  {
   "cell_type": "code",
   "execution_count": 8,
   "metadata": {},
   "outputs": [],
   "source": [
    "from tensorflow.keras import layers, models\n",
    "\n",
    "\n",
    "model = models.Sequential([\n",
    "    layers.Dense(32, input_shape=[5,]),\n",
    "    layers.Dense(64, activation='relu'),\n",
    "    layers.Dropout(0.25),\n",
    "    layers.Dense(128, activation='relu'),\n",
    "    layers.Dropout(0.25),\n",
    "    layers.Dense(256, activation='relu'),\n",
    "    layers.Dense(1, activation='sigmoid')\n",
    "])"
   ]
  },
  {
   "cell_type": "code",
   "execution_count": 9,
   "metadata": {},
   "outputs": [],
   "source": [
    "from tensorflow.keras.losses import Huber\n",
    "\n",
    "model.compile(optimizer='adam', loss='mean_absolute_error')"
   ]
  },
  {
   "cell_type": "code",
   "execution_count": 10,
   "metadata": {},
   "outputs": [
    {
     "name": "stdout",
     "output_type": "stream",
     "text": [
      "Epoch 1/50\n",
      "146/146 [==============================] - 3s 7ms/step - loss: 0.0911 - val_loss: 0.0152\n",
      "Epoch 2/50\n",
      "146/146 [==============================] - 1s 4ms/step - loss: 0.0245 - val_loss: 0.0300\n",
      "Epoch 3/50\n",
      "146/146 [==============================] - 1s 5ms/step - loss: 0.0191 - val_loss: 0.0160\n",
      "Epoch 4/50\n",
      "146/146 [==============================] - 1s 4ms/step - loss: 0.0173 - val_loss: 0.0254\n",
      "Epoch 5/50\n",
      "146/146 [==============================] - 1s 4ms/step - loss: 0.0153 - val_loss: 0.0223\n",
      "Epoch 6/50\n",
      "146/146 [==============================] - 1s 5ms/step - loss: 0.0151 - val_loss: 0.0135\n",
      "Epoch 7/50\n",
      "146/146 [==============================] - 1s 5ms/step - loss: 0.0145 - val_loss: 0.0205\n",
      "Epoch 8/50\n",
      "146/146 [==============================] - 1s 5ms/step - loss: 0.0131 - val_loss: 0.0310\n",
      "Epoch 9/50\n",
      "146/146 [==============================] - 1s 5ms/step - loss: 0.0134 - val_loss: 0.0196\n",
      "Epoch 10/50\n",
      "146/146 [==============================] - 1s 5ms/step - loss: 0.0124 - val_loss: 0.0199\n",
      "Epoch 11/50\n",
      "146/146 [==============================] - 1s 5ms/step - loss: 0.0127 - val_loss: 0.0168\n",
      "Epoch 12/50\n",
      "146/146 [==============================] - 1s 5ms/step - loss: 0.0121 - val_loss: 0.0267\n",
      "Epoch 13/50\n",
      "146/146 [==============================] - 1s 5ms/step - loss: 0.0119 - val_loss: 0.0217\n",
      "Epoch 14/50\n",
      "146/146 [==============================] - 1s 5ms/step - loss: 0.0117 - val_loss: 0.0286\n",
      "Epoch 15/50\n",
      "146/146 [==============================] - 1s 4ms/step - loss: 0.0115 - val_loss: 0.0211\n",
      "Epoch 16/50\n",
      "146/146 [==============================] - 1s 5ms/step - loss: 0.0109 - val_loss: 0.0230\n",
      "Epoch 17/50\n",
      "146/146 [==============================] - 1s 4ms/step - loss: 0.0108 - val_loss: 0.0265\n",
      "Epoch 18/50\n",
      "146/146 [==============================] - 1s 4ms/step - loss: 0.0108 - val_loss: 0.0280\n",
      "Epoch 19/50\n",
      "146/146 [==============================] - 1s 5ms/step - loss: 0.0105 - val_loss: 0.0265\n",
      "Epoch 20/50\n",
      "146/146 [==============================] - 1s 5ms/step - loss: 0.0102 - val_loss: 0.0282\n",
      "Epoch 21/50\n",
      "146/146 [==============================] - 1s 5ms/step - loss: 0.0101 - val_loss: 0.0287\n",
      "Epoch 22/50\n",
      "146/146 [==============================] - 1s 5ms/step - loss: 0.0102 - val_loss: 0.0313\n",
      "Epoch 23/50\n",
      "146/146 [==============================] - 1s 5ms/step - loss: 0.0096 - val_loss: 0.0270\n",
      "Epoch 24/50\n",
      "146/146 [==============================] - 1s 5ms/step - loss: 0.0101 - val_loss: 0.0289\n",
      "Epoch 25/50\n",
      "146/146 [==============================] - 1s 4ms/step - loss: 0.0093 - val_loss: 0.0273\n",
      "Epoch 26/50\n",
      "146/146 [==============================] - 1s 5ms/step - loss: 0.0100 - val_loss: 0.0302\n",
      "Epoch 27/50\n",
      "146/146 [==============================] - 1s 5ms/step - loss: 0.0095 - val_loss: 0.0329\n",
      "Epoch 28/50\n",
      "146/146 [==============================] - 1s 5ms/step - loss: 0.0099 - val_loss: 0.0241\n",
      "Epoch 29/50\n",
      "146/146 [==============================] - 1s 5ms/step - loss: 0.0090 - val_loss: 0.0277\n",
      "Epoch 30/50\n",
      "146/146 [==============================] - 1s 5ms/step - loss: 0.0094 - val_loss: 0.0279\n",
      "Epoch 31/50\n",
      "146/146 [==============================] - 1s 5ms/step - loss: 0.0092 - val_loss: 0.0299\n",
      "Epoch 32/50\n",
      "146/146 [==============================] - 1s 5ms/step - loss: 0.0092 - val_loss: 0.0308\n",
      "Epoch 33/50\n",
      "146/146 [==============================] - 1s 5ms/step - loss: 0.0089 - val_loss: 0.0283\n",
      "Epoch 34/50\n",
      "146/146 [==============================] - 1s 5ms/step - loss: 0.0088 - val_loss: 0.0311\n",
      "Epoch 35/50\n",
      "146/146 [==============================] - 1s 5ms/step - loss: 0.0089 - val_loss: 0.0323\n",
      "Epoch 36/50\n",
      "146/146 [==============================] - 1s 5ms/step - loss: 0.0089 - val_loss: 0.0275\n",
      "Epoch 37/50\n",
      "146/146 [==============================] - 1s 5ms/step - loss: 0.0089 - val_loss: 0.0324\n",
      "Epoch 38/50\n",
      "146/146 [==============================] - 1s 5ms/step - loss: 0.0088 - val_loss: 0.0326\n",
      "Epoch 39/50\n",
      "146/146 [==============================] - 1s 5ms/step - loss: 0.0085 - val_loss: 0.0275\n",
      "Epoch 40/50\n",
      "146/146 [==============================] - 1s 5ms/step - loss: 0.0083 - val_loss: 0.0311\n",
      "Epoch 41/50\n",
      "146/146 [==============================] - 1s 5ms/step - loss: 0.0085 - val_loss: 0.0305\n",
      "Epoch 42/50\n",
      "146/146 [==============================] - 1s 5ms/step - loss: 0.0089 - val_loss: 0.0303\n",
      "Epoch 43/50\n",
      "146/146 [==============================] - 1s 5ms/step - loss: 0.0083 - val_loss: 0.0265\n",
      "Epoch 44/50\n",
      "146/146 [==============================] - 1s 5ms/step - loss: 0.0083 - val_loss: 0.0272\n",
      "Epoch 45/50\n",
      "146/146 [==============================] - 1s 5ms/step - loss: 0.0087 - val_loss: 0.0322\n",
      "Epoch 46/50\n",
      "146/146 [==============================] - 1s 5ms/step - loss: 0.0087 - val_loss: 0.0301\n",
      "Epoch 47/50\n",
      "146/146 [==============================] - 1s 5ms/step - loss: 0.0083 - val_loss: 0.0345\n",
      "Epoch 48/50\n",
      "146/146 [==============================] - 1s 5ms/step - loss: 0.0081 - val_loss: 0.0280\n",
      "Epoch 49/50\n",
      "146/146 [==============================] - 1s 5ms/step - loss: 0.0079 - val_loss: 0.0309\n",
      "Epoch 50/50\n",
      "146/146 [==============================] - 1s 4ms/step - loss: 0.0083 - val_loss: 0.0293\n"
     ]
    }
   ],
   "source": [
    "history = model.fit(\n",
    "    X_train, y_train,\n",
    "    epochs=50,\n",
    "    validation_data=(X_test, y_test),\n",
    "    verbose=1\n",
    ")"
   ]
  },
  {
   "cell_type": "code",
   "execution_count": 11,
   "metadata": {},
   "outputs": [
    {
     "data": {
      "image/png": "[encoded data removed]",
      "text/plain": [
       "<Figure size 640x480 with 1 Axes>"
      ]
     },
     "metadata": {},
     "output_type": "display_data"
    }
   ],
   "source": [
    "import matplotlib.pyplot as plt\n",
    "\n",
    "plt.plot(history.history['loss'])\n",
    "plt.title('Loss Value')\n",
    "plt.xlabel('Epochs')\n",
    "plt.ylabel('Loss')\n",
    "plt.show()"
   ]
  },
  {
   "cell_type": "code",
   "execution_count": 13,
   "metadata": {},
   "outputs": [],
   "source": [
    "model.save('BestModel.h5')"
   ]
  },
  {
   "cell_type": "code",
   "execution_count": 14,
   "metadata": {},
   "outputs": [],
   "source": [
    "from tensorflow.keras.models import load_model"
   ]
  },
  {
   "cell_type": "code",
   "execution_count": 16,
   "metadata": {},
   "outputs": [],
   "source": [
    "loaded_model = load_model('BestModel.h5')"
   ]
  },
  {
   "cell_type": "code",
   "execution_count": 17,
   "metadata": {},
   "outputs": [],
   "source": [
    "# saya ambil contoh input fitur baru\n",
    "# fiturnya berupa secara berurutan low, open, volume, high, close\n",
    "scaler.fit(X)\n",
    "input_X = scaler.transform([[27.23, 30.54, 61894572,40.89,34.71]])"
   ]
  },
  {
   "cell_type": "code",
   "execution_count": 18,
   "metadata": {},
   "outputs": [
    {
     "name": "stdout",
     "output_type": "stream",
     "text": [
      "1/1 [==============================] - 0s 220ms/step\n"
     ]
    },
    {
     "data": {
      "text/plain": [
       "array([[26.740688]], dtype=float32)"
      ]
     },
     "execution_count": 18,
     "metadata": {},
     "output_type": "execute_result"
    }
   ],
   "source": [
    "scaler.fit(y)\n",
    "scaler.inverse_transform(loaded_model.predict(input_X))"
   ]
  },
  {
   "cell_type": "code",
   "execution_count": 19,
   "metadata": {},
   "outputs": [],
   "source": [
    "# ketika saya input data \n",
    "# low = 27.23\n",
    "# open = 30.54\n",
    "# volume = 61_894_572\n",
    "# high = 40.89\n",
    "# close = 34.71\n",
    "\n",
    "# bisa dilihat bahwa saya ingin memprediksi harga adjusted close nya artinya harga penutupan saham yang telah disesuaikan untuk memperhitungkan tindakan korporasi\n",
    "# harga adjusted close adalah 26.74"
   ]
  }
 ],
 "metadata": {
  "kernelspec": {
   "display_name": "Python 3",
   "language": "python",
   "name": "python3"
  },
  "language_info": {
   "codemirror_mode": {
    "name": "ipython",
    "version": 3
   },
   "file_extension": ".py",
   "mimetype": "text/x-python",
   "name": "python",
   "nbconvert_exporter": "python",
   "pygments_lexer": "ipython3",
   "version": "3.11.0"
  }
 },
 "nbformat": 4,
 "nbformat_minor": 2
}
